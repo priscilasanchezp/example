{
  "nbformat": 4,
  "nbformat_minor": 0,
  "metadata": {
    "colab": {
      "provenance": [],
      "include_colab_link": true
    },
    "kernelspec": {
      "name": "python3",
      "display_name": "Python 3"
    },
    "language_info": {
      "name": "python"
    }
  },
  "cells": [
    {
      "cell_type": "markdown",
      "metadata": {
        "id": "view-in-github",
        "colab_type": "text"
      },
      "source": [
        "<a href=\"https://colab.research.google.com/github/priscilasanchezp/example/blob/main/Coding_Practice.ipynb\" target=\"_parent\"><img src=\"https://colab.research.google.com/assets/colab-badge.svg\" alt=\"Open In Colab\"/></a>"
      ]
    },
    {
      "cell_type": "code",
      "execution_count": null,
      "metadata": {
        "colab": {
          "base_uri": "https://localhost:8080/"
        },
        "id": "dH18GNAJ3S47",
        "outputId": "c6aedb7d-e184-4e93-884b-16a1f9e341ea"
      },
      "outputs": [
        {
          "output_type": "stream",
          "name": "stdout",
          "text": [
            "Enter user_choice (rock, paper, scissor): rock\n",
            "paper\n",
            "pc wins\n"
          ]
        }
      ],
      "source": [
        "import random\n",
        "User_choice = input(\"Enter user_choice (rock, paper, scissor): \")\n",
        "pc_choice = random.choice(['rock', 'paper', 'scissor'])\n",
        "print(pc_choice)\n",
        "if User_choice == pc_choice:\n",
        "  print('Tie')\n",
        "elif User_choice == 'rock' and pc_choice == 'scissor' or User_choice == 'paper' and pc_choice == 'rock' or User_choice == 'scissor' and pc_choice == 'paper':\n",
        "  print('User wins')\n",
        "else:\n",
        "  print('pc wins')\n",
        "\n",
        "\n"
      ]
    },
    {
      "cell_type": "code",
      "source": [
        "x = 8\n",
        "for i in range(1,9):\n",
        "  total = 5+2.5*i\n",
        "  if total < 10:\n",
        "    total = 10.0\n",
        "  elif total > 20:\n",
        "    total = 20.0\n",
        "  print('Hours: {} = ${}'.format(i,total))\n"
      ],
      "metadata": {
        "colab": {
          "base_uri": "https://localhost:8080/"
        },
        "id": "9lOCzv1pmwIb",
        "outputId": "50d90c19-1da4-4364-e7cd-6d0212cc3a60"
      },
      "execution_count": null,
      "outputs": [
        {
          "output_type": "stream",
          "name": "stdout",
          "text": [
            "Hours: 1 = $10.0\n",
            "Hours: 2 = $10.0\n",
            "Hours: 3 = $12.5\n",
            "Hours: 4 = $15.0\n",
            "Hours: 5 = $17.5\n",
            "Hours: 6 = $20.0\n",
            "Hours: 7 = $20.0\n",
            "Hours: 8 = $20.0\n"
          ]
        }
      ]
    }
  ]
}