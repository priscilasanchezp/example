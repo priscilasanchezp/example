{
  "nbformat": 4,
  "nbformat_minor": 0,
  "metadata": {
    "colab": {
      "provenance": [],
      "authorship_tag": "ABX9TyOQNIu99NA7jYc4PS8luU/p",
      "include_colab_link": true
    },
    "kernelspec": {
      "name": "python3",
      "display_name": "Python 3"
    },
    "language_info": {
      "name": "python"
    }
  },
  "cells": [
    {
      "cell_type": "markdown",
      "metadata": {
        "id": "view-in-github",
        "colab_type": "text"
      },
      "source": [
        "<a href=\"https://colab.research.google.com/github/priscilasanchezp/example/blob/main/calculator.ipynb\" target=\"_parent\"><img src=\"https://colab.research.google.com/assets/colab-badge.svg\" alt=\"Open In Colab\"/></a>"
      ]
    },
    {
      "cell_type": "code",
      "source": [
        "while True:\n",
        "  num1 = float(input(\"enter first number: \"))\n",
        "  num2 = float(input(\"enter second number: \"))\n",
        "  operator = input('enter the operator:')\n",
        "\n",
        "  if operator =='break':\n",
        "    break\n",
        "\n",
        "  if operator == \"+\":\n",
        "    answer = num1 + num2\n",
        "  elif  operator == \"-\":\n",
        "    answer = num1 - num2\n",
        "  elif  operator == \"*\":\n",
        "    answer = num1 * num2\n",
        "  elif  operator == \"/\":\n",
        "    answer = num1 / num2\n",
        "  elif  operator == \"//\":\n",
        "    answer = num1 // num2\n",
        "  elif  operator == \"**\":\n",
        "    answer = num1 ** num2\n",
        "  elif  operator == \"%\":\n",
        "    answer = num1 % num2\n",
        "  else:\n",
        "    print(\"invalid operator:\" , operator)\n",
        "    continue\n",
        "\n",
        "\n",
        "  print(\"result:\", answer)"
      ],
      "metadata": {
        "colab": {
          "base_uri": "https://localhost:8080/"
        },
        "id": "jutjw-fUo1Mb",
        "outputId": "268714fc-f378-469d-dc00-ced36a9eb003"
      },
      "execution_count": null,
      "outputs": [
        {
          "output_type": "stream",
          "name": "stdout",
          "text": [
            "enter first number: 7\n",
            "enter second number: 0\n",
            "enter the operator:+\n",
            "result: 7.0\n"
          ]
        }
      ]
    }
  ]
}