{
  "nbformat": 4,
  "nbformat_minor": 0,
  "metadata": {
    "colab": {
      "provenance": [],
      "authorship_tag": "ABX9TyNpnt62IUfT+AFcy/woE2Sm",
      "include_colab_link": true
    },
    "kernelspec": {
      "name": "python3",
      "display_name": "Python 3"
    },
    "language_info": {
      "name": "python"
    }
  },
  "cells": [
    {
      "cell_type": "markdown",
      "metadata": {
        "id": "view-in-github",
        "colab_type": "text"
      },
      "source": [
        "<a href=\"https://colab.research.google.com/github/priscilasanchezp/example/blob/main/Date_assignment.ipynb\" target=\"_parent\"><img src=\"https://colab.research.google.com/assets/colab-badge.svg\" alt=\"Open In Colab\"/></a>"
      ]
    },
    {
      "cell_type": "code",
      "source": [
        "date = input(' enter date (MM/DD/YYYY): ')\n",
        "month = date[:2]\n",
        "day = date[3:5]\n",
        "year = date [6:0]\n",
        "print (month, day, year)"
      ],
      "metadata": {
        "id": "qis8ue3m0KaR"
      },
      "execution_count": null,
      "outputs": []
    }
  ]
}