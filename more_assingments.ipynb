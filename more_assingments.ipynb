{
  "nbformat": 4,
  "nbformat_minor": 0,
  "metadata": {
    "colab": {
      "provenance": [],
      "authorship_tag": "ABX9TyOA/ZL6c3xGw9mpqPmlPrX6",
      "include_colab_link": true
    },
    "kernelspec": {
      "name": "python3",
      "display_name": "Python 3"
    },
    "language_info": {
      "name": "python"
    }
  },
  "cells": [
    {
      "cell_type": "markdown",
      "metadata": {
        "id": "view-in-github",
        "colab_type": "text"
      },
      "source": [
        "<a href=\"https://colab.research.google.com/github/priscilasanchezp/example/blob/main/more_assingments.ipynb\" target=\"_parent\"><img src=\"https://colab.research.google.com/assets/colab-badge.svg\" alt=\"Open In Colab\"/></a>"
      ]
    },
    {
      "cell_type": "markdown",
      "source": [
        "LEAP YEAR"
      ],
      "metadata": {
        "id": "9rCNFRFKPNuF"
      }
    },
    {
      "cell_type": "code",
      "execution_count": 2,
      "metadata": {
        "id": "yHzA-KNROenV",
        "colab": {
          "base_uri": "https://localhost:8080/"
        },
        "outputId": "b9458674-e900-420f-a176-963d6d3b2f6f"
      },
      "outputs": [
        {
          "output_type": "stream",
          "name": "stdout",
          "text": [
            "enter a year:300\n",
            "300is not leap year.\n"
          ]
        }
      ],
      "source": [
        "year = int(input('enter a year:'))\n",
        "\n",
        "if (year % 4 == 0 and year % 100 !=0) or (year % 400 == 0):\n",
        "  print(f'{year}is a leap year!')\n",
        "else:\n",
        "  print(f'{year}is not leap year.')"
      ]
    },
    {
      "cell_type": "markdown",
      "source": [
        "THEATHER"
      ],
      "metadata": {
        "id": "qRfI1aK4Qkd9"
      }
    },
    {
      "cell_type": "code",
      "source": [
        "init_attendees = 20\n",
        "fixed_cost = 200\n",
        "\n",
        "for advertising in range(0, 201, 25):\n",
        "  attendees = float(2*round(advertising**0.5) + init_attendees)\n",
        "  profit = float((attendees * 10) - advertising)\n"
      ],
      "metadata": {
        "id": "nVp56U_6PQQT"
      },
      "execution_count": 5,
      "outputs": []
    },
    {
      "cell_type": "code",
      "source": [
        "DIRECT DEPOSIT WITH RATES"
      ],
      "metadata": {
        "id": "bf470d5NQpgm"
      },
      "execution_count": null,
      "outputs": []
    },
    {
      "cell_type": "code",
      "source": [
        "name = input('Enter your name: ')\n",
        "customer_type = input('Enter customer type (n: new, e:existing):')\n",
        "deposit = float(input('Enter deposit amount(in $):'))\n",
        "\n",
        "if customer_type == 'n':\n",
        "  interest = 0.3\n",
        "else:\n",
        "  if deposit <= 1000:\n",
        "    interest = 0.03\n",
        "  elif deposit <= 10000:\n",
        "    interest = 0.0325\n",
        "  elif deposit > 10000:\n",
        "    interest = 0.035\n",
        "\n",
        "total = (1 + interest) * dep\n"
      ],
      "metadata": {
        "id": "F3xNta4AQs1H"
      },
      "execution_count": null,
      "outputs": []
    }
  ]
}