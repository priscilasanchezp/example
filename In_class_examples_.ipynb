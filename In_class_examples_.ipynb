{
  "nbformat": 4,
  "nbformat_minor": 0,
  "metadata": {
    "colab": {
      "provenance": [],
      "authorship_tag": "ABX9TyOaDxDvVeUsgWRUvuIMeiUr",
      "include_colab_link": true
    },
    "kernelspec": {
      "name": "python3",
      "display_name": "Python 3"
    },
    "language_info": {
      "name": "python"
    }
  },
  "cells": [
    {
      "cell_type": "markdown",
      "metadata": {
        "id": "view-in-github",
        "colab_type": "text"
      },
      "source": [
        "<a href=\"https://colab.research.google.com/github/priscilasanchezp/example/blob/main/In_class_examples_.ipynb\" target=\"_parent\"><img src=\"https://colab.research.google.com/assets/colab-badge.svg\" alt=\"Open In Colab\"/></a>"
      ]
    },
    {
      "cell_type": "code",
      "source": [
        "try:\n",
        "  a = float(input('Enter the numerator:'))\n",
        "  b = float(input('Enter the denominator:'))\n",
        "  print(a/b)\n",
        "  print('Division complete')\n",
        "except ZeroDivisionError:\n",
        "  print('Division by zero not allowed!')\n",
        "except ValueError:\n",
        "  print('Invalid iinput!')\n",
        "except:\n",
        "  print('Unknown error...')\n",
        "\n",
        "print('Program ends')"
      ],
      "metadata": {
        "id": "_E893iJu1fCc"
      },
      "execution_count": null,
      "outputs": []
    },
    {
      "cell_type": "code",
      "execution_count": null,
      "metadata": {
        "id": "mMnU0ZZf0RA0"
      },
      "outputs": [],
      "source": [
        "l = [1, 3, 5, 7, 9]\n",
        "try:\n",
        "  idx = int(input('enter index:'))\n",
        "  print(l[idx])\n",
        "except IndexError:\n",
        "  print('Index value out of bonds!')\n",
        "except TypeError:\n",
        "  print('Indexes must be int')\n",
        "else:\n",
        "  print('All good!')\n",
        "finally:\n",
        "  print('This will be displayed always')"
      ]
    },
    {
      "cell_type": "code",
      "source": [
        "def avg(alist):\n",
        "  try:\n",
        "    return sum(alist) / len(alist)\n",
        "  except ZeroDivisionError:\n",
        "    print('The list is empty!')\n",
        "    return[]\n",
        "  except TypeError:\n",
        "    print('The list has to be numeric only!')\n",
        "    return float('nan')\n",
        "\n",
        "avg([])\n",
        "\n"
      ],
      "metadata": {
        "id": "-bRItHW02d5l"
      },
      "execution_count": null,
      "outputs": []
    }
  ]
}